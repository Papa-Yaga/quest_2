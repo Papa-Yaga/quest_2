{
 "cells": [
  {
   "cell_type": "code",
   "execution_count": 509,
   "id": "f5ab950c-4a5e-44a6-a4fa-0a259061497b",
   "metadata": {
    "scrolled": true
   },
   "outputs": [],
   "source": [
    "# !pip install xlrd\n",
    "# !pip install thefuzz"
   ]
  },
  {
   "cell_type": "code",
   "execution_count": 510,
   "id": "1c6f0563-254e-40c7-ac62-057b3231c8e8",
   "metadata": {},
   "outputs": [],
   "source": [
    "import pandas as pd\n",
    "import numpy as np\n",
    "pd.options.mode.chained_assignment = None\n",
    "import matplotlib.pyplot as plt\n",
    "import seaborn as sns\n",
    "from thefuzz import fuzz\n",
    "from thefuzz import process\n",
    "import re\n",
    "\n",
    "url = r\"C:\\Users\\PapaYaga\\Documents\\GitHub\\Projects\\GSAF5.xls\"\n",
    "sharks_df = pd.DataFrame(pd.read_excel(url))\n",
    "\n",
    "def clean_cols(col):\n",
    "    \"\"\"\n",
    "    Takes a Series as argument, strips it off its whitespaces and capitalizes it.\n",
    "    \"\"\"\n",
    "    col = col.strip()\n",
    "    col = col.title()\n",
    "    return col\n",
    "\n",
    "def fix_m(n):\n",
    "    months = [\"Jan\",\"Feb\",\"Mar\",\"Apr\",\"May\",\"Jun\",\"Jul\",\"Aug\",\"Sep\",\"Oct\",\"Nov\",\"Dec\"]\n",
    "    n = process.extractOne(n, months, scorer=fuzz.partial_ratio)[0]\n",
    "    m_numbers = {months[x]:\"0\"+str(x+1) for x in range(12)}\n",
    "    for m in m_numbers:\n",
    "        if n == m:\n",
    "            n = m_numbers[m]\n",
    "    return n\n",
    "\n",
    "def clean_date(date):\n",
    "    \"\"\"\n",
    "    Takes a Series as argument, cleans it.\n",
    "    \"\"\"\n",
    "    check = re.findall(\"\\d\\d.\\D\\D{3}\\d{4}|\\d{4}\", str(date))\n",
    "    if check:\n",
    "        try:\n",
    "            check = check[0].replace(\" \",\"-\")\n",
    "            month = re.findall(\"[a-zA-Z]{3}\",str(check))[0]\n",
    "            month_new = fix_m(month)\n",
    "        except IndexError:\n",
    "            return check\n",
    "        else:\n",
    "            return check.replace(month, str(month_new))\n",
    "    else:\n",
    "        return \"\"\n",
    "\n",
    "# pd.Series(sharks_df_copy.columns).apply(clean_cols)"
   ]
  },
  {
   "cell_type": "code",
   "execution_count": 511,
   "id": "443cdcf4-3264-4e66-a7f6-f956fc7f1eaa",
   "metadata": {},
   "outputs": [],
   "source": [
    "# -- Type --\n",
    "\n",
    "# 5106 Unprovoked\n",
    "# 637 Provoked\n",
    "# 552 Invalid\n",
    "# 355 Watercraft\n",
    "# 242 Sea Disaster\n",
    "# 35 Miscelaneous\n",
    "\n",
    "# -- Country --\n",
    "\n",
    "# 2538 USA\n",
    "# 1480 AUSTRALIA\n",
    "# 597 SOUTH AFRICA\n",
    "# 144 NEW ZEALAND\n",
    "# 136 BAHAMAS & PAPUA NEW GUINEA\n",
    "# 122 BRAZIL\n",
    "# 103 MEXICO\n",
    "# Roughly 100 Miscellaneaous\n",
    "\n",
    "# -- Activity --\n",
    "\n",
    "# 1121 Surfing\n",
    "# 975 Swimming\n",
    "# 488 Fishing\n",
    "# 382 Spearfishing\n",
    "# 174 Wading\n",
    "# 163 Bathing\n",
    "# 142 Diving\n",
    "# Roughly 300 Miscellaneaous\n",
    "\n",
    "# -- Name -- Sex --\n",
    "\n",
    "# ~700 entries listed as \"male\" & 5578 listed as \"male\" in Sex\n",
    "# ~150 entries listed as \"female\" & 778 listed as \"female\" in Sex\n",
    "\n",
    "# -- Injury --\n",
    "\n",
    "# 887 Fatal\n",
    "# 100 Foot bitten\n",
    "# ---\n",
    "\n",
    "# -- Unnamed: 11 -- <-- to be renamed to Fatality\n",
    "\n",
    "# 4832 listed as \"N\"\n",
    "# 1460 listed as \"Y\"\n",
    "# 71 listed as \"Unknown\""
   ]
  },
  {
   "cell_type": "code",
   "execution_count": 512,
   "id": "d543d431-86fd-4761-9fd6-40a9077906cf",
   "metadata": {},
   "outputs": [],
   "source": [
    "sharks_df[\"Date\"] = sharks_df[\"Date\"].apply(lambda x: clean_date(x))\n",
    "pd.to_datetime(sharks_df[\"Date\"],format=\"%d-%m-%y\",dayfirst=True,errors=\"ignore\")\n",
    "sharks_df.set_index([\"Date\"])\n",
    "sharks_df[\"Year\"] = sharks_df[\"Date\"].apply(lambda x: re.findall(\"[0-9]{4}\", x)[0] if x else x)"
   ]
  },
  {
   "cell_type": "code",
   "execution_count": 514,
   "id": "44a33da1-2ad4-4e18-bf16-95d014b246fd",
   "metadata": {},
   "outputs": [
    {
     "data": {
      "text/plain": [
       "Type\n",
       "Unprovoked             5106\n",
       "Provoked                635\n",
       "Invalid                 552\n",
       "Watercraft              355\n",
       "Sea Disaster            242\n",
       "Questionable             22\n",
       "Boat                      7\n",
       " Provoked                 2\n",
       "?                         1\n",
       "Unconfirmed               1\n",
       "Unverified                1\n",
       "Under investigation       1\n",
       "Name: count, dtype: int64"
      ]
     },
     "execution_count": 514,
     "metadata": {},
     "output_type": "execute_result"
    }
   ],
   "source": [
    "sharks_df[\"Type\"].value_counts()"
   ]
  }
 ],
 "metadata": {
  "kernelspec": {
   "display_name": "Python 3 (ipykernel)",
   "language": "python",
   "name": "python3"
  },
  "language_info": {
   "codemirror_mode": {
    "name": "ipython",
    "version": 3
   },
   "file_extension": ".py",
   "mimetype": "text/x-python",
   "name": "python",
   "nbconvert_exporter": "python",
   "pygments_lexer": "ipython3",
   "version": "3.11.7"
  }
 },
 "nbformat": 4,
 "nbformat_minor": 5
}
